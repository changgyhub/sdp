{
 "cells": [
  {
   "cell_type": "markdown",
   "metadata": {
    "slideshow": {
     "slide_type": "slide"
    }
   },
   "source": [
    "# Python + ipynb\n",
    "\n",
    "The goal of this assignment is to learn/review python and ipynb.\n",
    "Python is a popular programming language, and also interfaced for several machine learning libraries, such as scikit-learn, Theano, and TensorFlow.\n",
    "Ipynb is a digital notebook format that allows flexible incorporation of a variety of information, such as code (e.g. python), data, text (e.g. markdown, html, and Latex), images (common raster/vector graphics formats such as jpg and svg), and video (e.g. youtube).\n",
    "We can also run code and experiments directly inside ipynbs.\n",
    "Thus, we will use ipynb for all assignments in this class.\n",
    "\n",
    "# Sorting \n",
    "\n",
    "As a starting exercise, let's try to implement a sorting function via python.\n",
    "The input to the function is a python array consisting of an arbitrary sequence of numbers.\n",
    "The output is a sorted sequence with numbers ranging from small to large.\n",
    "The code stub, along with the test driver, are shown below.\n",
    "\n",
    "There are various algorithms for sorting with different time complexities with respect to the array size $N$, e.g. $O(N^2)$ for bubble sort and $O(Nlog(N))$ for quick sort.\n",
    "You can choose any algorithm to implement, as long as it produces correct results with reasonable run-time.\n",
    "\n",
    "Please submit a single ipynb file, consisting of python code in a code cell and descriptions (including algorithm and analysis of complexity) in a markdown cell.\n",
    "You can use this ipynb as a start, or create your own."
   ]
  },
  {
   "cell_type": "markdown",
   "metadata": {
    "slideshow": {
     "slide_type": "subslide"
    }
   },
   "source": [
    "## Code (20 points)\n",
    "\n",
    "Please implement your algorithm via the function below."
   ]
  },
  {
   "cell_type": "code",
   "execution_count": 8,
   "metadata": {
    "collapsed": false,
    "slideshow": {
     "slide_type": "fragment"
    }
   },
   "outputs": [],
   "source": [
    "# the function\n",
    "\n",
    "def sort(values):\n",
    "    # quicksort\n",
    "    # O(nlogn) for the average case\n",
    "    sortedList = quickSort(values)\n",
    "    # change innner reference to avoid pass by assignment\n",
    "    for i in range(values.size):\n",
    "        values[i] = sortedList[i]\n",
    "\t\n",
    "def quickSort(values):\n",
    "\tif values.size <= 1:\n",
    "\t\treturn values\n",
    "\t# pick up a pivot if the array has at least one element\n",
    "\tpivot = values[0]\n",
    "\ttry:\n",
    "\t\t# try to get the list smaller than pivot\n",
    "\t\t# and the bigger than the pivot\n",
    "\t\tsmallArray = quickSort(np.array([item for item in np.nditer(values) if item < pivot]))\n",
    "\t\t# issue solved:\n",
    "\t\t# can not use item <= pivot which will cause repetition\n",
    "\t\tmiddle = (np.array([item for item in np.nditer(values) if item == pivot]))\n",
    "\t\tbigArray = quickSort(np.array([item for item in np.nditer(values) if item > pivot]))\n",
    "\n",
    "\texcept Exception as e:\n",
    "\t\tprint (e)\n",
    "\n",
    "\treturn np.concatenate((smallArray, middle, bigArray))"
   ]
  },
  {
   "cell_type": "code",
   "execution_count": 10,
   "metadata": {
    "collapsed": false,
    "slideshow": {
     "slide_type": "fragment"
    }
   },
   "outputs": [
    {
     "name": "stdout",
     "output_type": "stream",
     "text": [
      "Correct? True\n"
     ]
    }
   ],
   "source": [
    "# main\n",
    "import numpy as np\n",
    "\n",
    "# different random seed\n",
    "np.random.seed()\n",
    "\n",
    "# generate numbers\n",
    "N = 10\n",
    "# the TA will vary the input array size and content during testing\n",
    "values = np.random.random([N])\n",
    "\n",
    "sort(values)\n",
    "\n",
    "correct = True\n",
    "for index in range(1, len(values)):\n",
    "    if(values[index-1] > values[index]):\n",
    "        correct = False\n",
    "        \n",
    "print('Correct? ' + str(correct))"
   ]
  },
  {
   "cell_type": "markdown",
   "metadata": {
    "slideshow": {
     "slide_type": "slide"
    }
   },
   "source": [
    "# Line fitting\n",
    "<img src=\"./images/01_04.png\" width=50%>\n",
    "\n",
    "Given a set of data points $\\left(\\mathbf{X}, \\mathbf{Y}\\right)$, fit a model curve to describe their relationship.\n",
    "\n",
    "This is actually a regression problem, but we have all seen this in prior math/coding classes to serve as a good example for machine learning.\n",
    "\n",
    "Recall $\\mathbf{Y} = f(\\mathbf{X}, \\Theta)$ is our model.\n",
    "\n",
    "For 2D linear curve fitting, the model is a straight line:\n",
    "$y = w_1 x + w_0$, so the parameters $\\Theta = \\{w_0, w_1\\}$.\n",
    "\n",
    "The loss function is $L\\left(\\mathbf{X}, \\mathbf{T}, \\mathbf{Y}\\right) = \\sum_i \\left( T^{(i)} - Y^{(i)}\\right)^2 = \\sum_i \\left( T^{(i)} - w_1 X^{(i)} - w_0 \\right)^2$.\n",
    "<br>\n",
    "($\\mathbf{X}$ is a matrix/tensor, and each data sample is a row. We denote the ith sample/row as $\\mathbf{X}^{(i)}$.)\n",
    "\n",
    "For this simple example we don't care about regularization, thus $P(\\Theta) = 0$.\n",
    "\n",
    "The goal is to optimize $\\Theta = \\{w_0, w_1 \\}$ with given $\\left(\\mathbf{X}, \\mathbf{Y}\\right)$ to minimize $L$.\n",
    "For simple cases like this, we can directly optimize via calculus:\n",
    "$$\n",
    "\\begin{align}\n",
    "\\frac{\\partial L}{\\partial w_0} & = 0 \\\\\n",
    "\\frac{\\partial L}{\\partial w_1} & = 0\n",
    "\\end{align}\n",
    "$$\n"
   ]
  },
  {
   "cell_type": "markdown",
   "metadata": {
    "slideshow": {
     "slide_type": "fragment"
    }
   },
   "source": [
    "## Math (30 points)\n",
    "\n",
    "Write down explicit formulas for $w_0$ and $w_1$ in terms of $\\mathbf{X}$ and $\\mathbf{T}$.\n",
    "\n",
    "We use normal equation to infer the $w_0$ and $w_1$\n",
    "\n",
    "\n",
    "\n",
    "In order to fit the output, we know that for \n",
    "$\\mathbf{W}$ =\n",
    "$ \\begin{bmatrix}\n",
    "    w_0  \\\\\n",
    "    w_1\n",
    "  \\end{bmatrix}\n",
    "$ \n",
    "\n",
    "it's our target to get $\\mathbf{X^{'}}$$\\mathbf{W}$ = $\\mathbf{T}$ \n",
    "\n",
    "where $\\mathbf{X^{'}}$  = [$\\mathbf{1}$ | $\\mathbf{X}$] = \n",
    "$ \\begin{bmatrix}\n",
    "    1 & x_0  \\\\\n",
    "    1 & x_1 \\\\\n",
    "    ......\\\\\n",
    "    1 & x_n\n",
    "  \\end{bmatrix}\n",
    "$ \n",
    "\n",
    "then we could find that \n",
    "$\n",
    "(\\mathbf{X^{'T}}$$\\mathbf{X^{'}}$)$\\mathbf{W}$ = $\\mathbf{X^{'T}}$\n",
    "$\n",
    "\\mathbf{T}\n",
    "$\n",
    "\n",
    "\n",
    "($\\mathbf{X^{'T}}$$\\mathbf{X^{'}}$)$^{T}$\n",
    "$\\mathbf{X^{'T}}$$\\mathbf{X^{'}}$$\\mathbf{W}$ = $\\mathbf{X^{'T}}$$\\mathbf{T}$\n",
    "\n",
    "\n",
    "\n",
    "$\\textbf{But we can not confirm that $\\mathbf{X^{'T}}$$\\mathbf{X^{'}}$ is invertable}$ so we try to use pseudo inverse (dentoe as  $\\mathbf{X^{+}}$) to guarantee that we always has an inverse matrix for the $\\mathbf{X^{'T}}$$\\mathbf{X^{'}}$\n",
    "\n",
    "Then we could get:\n",
    "\n",
    "($\\mathbf{X^{'T}}$$\\mathbf{X^{'}}$)$^{+}$($\\mathbf{X^{'T}}$$\\mathbf{X^{'}}$)$\\mathbf{W}$ = ($\\mathbf{X^{'T}}$$\\mathbf{X^{'}}$)$^{+}$$\\mathbf{X^{'T}}$$\\mathbf{T}$\n",
    "\n",
    "$\\mathbf{I}$$\\mathbf{W}$ = ($\\mathbf{X^{'T}}$$\\mathbf{X^{'}}$)$^{+}$$\\mathbf{X^{'T}}$$\\mathbf{T}$\n",
    "\n",
    "\n",
    "$ \\begin{bmatrix}\n",
    "    w_0  \\\\\n",
    "    w_1\n",
    "  \\end{bmatrix}\n",
    "$ \n",
    "=\n",
    "$\\mathbf{W}$ =($\\mathbf{X^{'T}}$$\\mathbf{X^{'}}$)$^{+}$$\\mathbf{X^{'T}}$$\\mathbf{T}$\n",
    "\n"
   ]
  },
  {
   "cell_type": "markdown",
   "metadata": {
    "slideshow": {
     "slide_type": "fragment"
    }
   },
   "source": [
    "## Code (50 points)\n",
    "\n",
    "Implement your math above in the code below."
   ]
  },
  {
   "cell_type": "code",
   "execution_count": 5,
   "metadata": {
    "collapsed": true,
    "slideshow": {
     "slide_type": "fragment"
    }
   },
   "outputs": [],
   "source": [
    "# line model\n",
    "import numpy as np\n",
    "\n",
    "class Line(object):\n",
    "    def __init__(self, w0, w1):\n",
    "        self.w0 = w0\n",
    "        self.w1 = w1\n",
    "        \n",
    "    def predict(self, x, noise=0):\n",
    "        return (x*self.w1 + self.w0 + noise*np.random.normal())\n",
    "\n",
    "    # Input: data, a 2D array with each (x, t) pair on a row\n",
    "    # Return: w0 and w1, the intercept and slope of the fitted line\n",
    "    \n",
    "    def learn(self, data):\n",
    "    # replace the default code below which simply does random computation \n",
    "        X = data[:, 0]\n",
    "        T = data[:, 1]\n",
    "        # the following code is to make the matrix to be like [1, x1 \n",
    "        #                                        1, x2\n",
    "        #                                        1, x3..\n",
    "        #                                        1, xn ]\n",
    "        #\n",
    "        E = np.ones((X.size,1))\n",
    "        X = X.reshape(X.size, 1)\n",
    "       \n",
    "        augmentedMatrix = np.concatenate((E, X), axis = 1)\n",
    "\n",
    "        \n",
    "        w0, w1 = np.linalg.pinv(augmentedMatrix.transpose().dot(augmentedMatrix)).dot(augmentedMatrix.transpose().dot(T))\n",
    "\n",
    "\n",
    "        \n",
    "        return w0, w1\n",
    "        "
   ]
  },
  {
   "cell_type": "code",
   "execution_count": 6,
   "metadata": {
    "collapsed": false,
    "slideshow": {
     "slide_type": "fragment"
    }
   },
   "outputs": [
    {
     "name": "stdout",
     "output_type": "stream",
     "text": [
      "truth:   0.6384049833292067 -0.5437590420853846\n",
      "predict: 0.610446932411 -0.483050790918\n"
     ]
    }
   ],
   "source": [
    "# test\n",
    "np.random.seed()\n",
    "\n",
    "w0 = np.asscalar(np.random.random(1))*2-1\n",
    "w1 = np.asscalar(np.random.random(1))*2-1\n",
    "\n",
    "line = Line(w0, w1)\n",
    "\n",
    "N = 20\n",
    "noise = 0.05\n",
    "X = np.random.random([N])\n",
    "T = []\n",
    "for x in X:\n",
    "    T.append(np.sum(line.predict(x, noise)))\n",
    "T = np.array(T)    \n",
    "\n",
    "#data = np.vstack((X, T)).transpose()\n",
    "data = np.array([X, T]).transpose()\n",
    "\n",
    "w0_fit, w1_fit = line.learn(data)\n",
    "\n",
    "line_fit = Line(w0_fit, w1_fit)\n",
    "\n",
    "print('truth:   ' + str(w0) + ' ' + str(w1))\n",
    "print('predict: ' + str(w0_fit) + ' ' + str(w1_fit))"
   ]
  },
  {
   "cell_type": "code",
   "execution_count": 7,
   "metadata": {
    "collapsed": false,
    "slideshow": {
     "slide_type": "fragment"
    }
   },
   "outputs": [
    {
     "data": {
      "image/png": "[encoded data removed]",
      "text/plain": [
       "<matplotlib.figure.Figure at 0x7f0d9aeac358>"
      ]
     },
     "metadata": {},
     "output_type": "display_data"
    }
   ],
   "source": [
    "# plot\n",
    "%matplotlib inline\n",
    "import matplotlib.pyplot as plt\n",
    "\n",
    "plt.scatter(data[:, 0], data[:, 1], color='black', marker='o')\n",
    "\n",
    "X_endpoints = [0, 1]\n",
    "Y_truth, Y_fit = [], []\n",
    "for x in X_endpoints:\n",
    "    Y_truth.append(line.predict(x))\n",
    "    Y_fit.append(line_fit.predict(x))\n",
    "    \n",
    "plt.plot(X_endpoints, Y_truth, color='blue', label='truth')\n",
    "plt.plot(X_endpoints, Y_fit, color='red', label='predict')\n",
    "\n",
    "plt.legend(loc='best')\n",
    "plt.tight_layout()\n",
    "plt.show()"
   ]
  },
  {
   "cell_type": "code",
   "execution_count": null,
   "metadata": {
    "collapsed": true
   },
   "outputs": [],
   "source": []
  }
 ],
 "metadata": {
  "celltoolbar": "Slideshow",
  "kernelspec": {
   "display_name": "Python 3",
   "language": "python",
   "name": "python3"
  },
  "language_info": {
   "codemirror_mode": {
    "name": "ipython",
    "version": 3
   },
   "file_extension": ".py",
   "mimetype": "text/x-python",
   "name": "python",
   "nbconvert_exporter": "python",
   "pygments_lexer": "ipython3",
   "version": "3.4.3"
  }
 },
 "nbformat": 4,
 "nbformat_minor": 0
}

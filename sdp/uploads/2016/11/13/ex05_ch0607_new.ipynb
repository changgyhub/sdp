{
 "cells": [
  {
   "cell_type": "markdown",
   "metadata": {},
   "source": [
    "# Assignment 5\n",
    "\n",
    "This assignment has weighting $1.5$."
   ]
  },
  {
   "cell_type": "markdown",
   "metadata": {
    "slideshow": {
     "slide_type": "slide"
    }
   },
   "source": [
    "# Model tuning and evaluation"
   ]
  },
  {
   "cell_type": "code",
   "execution_count": 1,
   "metadata": {
    "collapsed": true,
    "slideshow": {
     "slide_type": "skip"
    }
   },
   "outputs": [],
   "source": [
    "# Added version check for recent scikit-learn 0.18 checks\n",
    "from distutils.version import LooseVersion as Version\n",
    "from sklearn import __version__ as sklearn_version"
   ]
  },
  {
   "cell_type": "markdown",
   "metadata": {
    "slideshow": {
     "slide_type": "slide"
    }
   },
   "source": [
    "## Dataset\n",
    "\n",
    "We will use the Wisconsin breast cancer dataset for the following questions"
   ]
  },
  {
   "cell_type": "code",
   "execution_count": 2,
   "metadata": {
    "collapsed": true,
    "slideshow": {
     "slide_type": "fragment"
    }
   },
   "outputs": [],
   "source": [
    "import pandas as pd\n",
    "\n",
    "wdbc_source = 'https://archive.ics.uci.edu/ml/machine-learning-databases/breast-cancer-wisconsin/wdbc.data'\n",
    "#wdbc_source = '../datasets/wdbc/wdbc.data'\n",
    "\n",
    "df = pd.read_csv(wdbc_source, header=None)"
   ]
  },
  {
   "cell_type": "code",
   "execution_count": 3,
   "metadata": {
    "collapsed": false,
    "slideshow": {
     "slide_type": "fragment"
    }
   },
   "outputs": [
    {
     "data": {
      "text/plain": [
       "array([1, 0], dtype=int64)"
      ]
     },
     "execution_count": 3,
     "metadata": {},
     "output_type": "execute_result"
    }
   ],
   "source": [
    "from sklearn.preprocessing import LabelEncoder\n",
    "X = df.loc[:, 2:].values\n",
    "y = df.loc[:, 1].values\n",
    "le = LabelEncoder()\n",
    "y = le.fit_transform(y)\n",
    "le.transform(['M', 'B'])"
   ]
  },
  {
   "cell_type": "code",
   "execution_count": 4,
   "metadata": {
    "collapsed": false,
    "slideshow": {
     "slide_type": "fragment"
    }
   },
   "outputs": [],
   "source": [
    "if Version(sklearn_version) < '0.18':\n",
    "    from sklearn.cross_validation import train_test_split\n",
    "else:\n",
    "    from sklearn.model_selection import train_test_split\n",
    "\n",
    "X_train, X_test, y_train, y_test = \\\n",
    "    train_test_split(X, y, test_size=0.20, random_state=1)"
   ]
  },
  {
   "cell_type": "code",
   "execution_count": 5,
   "metadata": {
    "collapsed": true,
    "slideshow": {
     "slide_type": "skip"
    }
   },
   "outputs": [],
   "source": [
    "%matplotlib inline"
   ]
  },
  {
   "cell_type": "markdown",
   "metadata": {
    "slideshow": {
     "slide_type": "slide"
    }
   },
   "source": [
    "# K-fold validation (20 points)\n",
    "\n",
    "Someone wrote the code below to conduct cross validation.\n",
    "Do you see anything wrong with it?\n",
    "And if so, correct the code and provide an explanation."
   ]
  },
  {
   "cell_type": "code",
   "execution_count": 6,
   "metadata": {
    "collapsed": false,
    "slideshow": {
     "slide_type": "fragment"
    }
   },
   "outputs": [
    {
     "name": "stdout",
     "output_type": "stream",
     "text": [
      "Epoch: 0, Fold: 0, Class dist.: [256 153], Acc: 0.978\n",
      "Epoch: 0, Fold: 1, Class dist.: [256 153], Acc: 0.978\n",
      "Epoch: 0, Fold: 2, Class dist.: [256 153], Acc: 0.978\n",
      "Epoch: 0, Fold: 3, Class dist.: [256 153], Acc: 0.935\n",
      "Epoch: 0, Fold: 4, Class dist.: [256 153], Acc: 1.000\n",
      "Epoch: 0, Fold: 5, Class dist.: [257 153], Acc: 1.000\n",
      "Epoch: 0, Fold: 6, Class dist.: [257 153], Acc: 0.978\n",
      "Epoch: 0, Fold: 7, Class dist.: [257 153], Acc: 0.978\n",
      "Epoch: 0, Fold: 8, Class dist.: [257 153], Acc: 0.978\n",
      "Epoch: 0, Fold: 9, Class dist.: [257 153], Acc: 0.978\n",
      "\n",
      "Epoch: 1, Fold: 0, Class dist.: [256 153], Acc: 0.957\n",
      "Epoch: 1, Fold: 1, Class dist.: [256 153], Acc: 1.000\n",
      "Epoch: 1, Fold: 2, Class dist.: [256 153], Acc: 0.935\n",
      "Epoch: 1, Fold: 3, Class dist.: [256 153], Acc: 0.978\n",
      "Epoch: 1, Fold: 4, Class dist.: [256 153], Acc: 1.000\n",
      "Epoch: 1, Fold: 5, Class dist.: [257 153], Acc: 1.000\n",
      "Epoch: 1, Fold: 6, Class dist.: [257 153], Acc: 0.978\n",
      "Epoch: 1, Fold: 7, Class dist.: [257 153], Acc: 0.978\n",
      "Epoch: 1, Fold: 8, Class dist.: [257 153], Acc: 0.978\n",
      "Epoch: 1, Fold: 9, Class dist.: [257 153], Acc: 0.956\n",
      "\n",
      "\n",
      "CV accuracy: 0.977 +/- 0.019\n"
     ]
    }
   ],
   "source": [
    "import numpy as np\n",
    "import copy\n",
    "from sklearn.preprocessing import StandardScaler\n",
    "from sklearn.decomposition import PCA\n",
    "from sklearn.linear_model import Perceptron\n",
    "from sklearn.pipeline import Pipeline\n",
    "\n",
    "if Version(sklearn_version) < '0.18':\n",
    "    from sklearn.cross_validation import StratifiedKFold\n",
    "else:\n",
    "    from sklearn.model_selection import StratifiedKFold\n",
    "\n",
    "scl = StandardScaler()\n",
    "pca = PCA(n_components=2)\n",
    "clf = Perceptron(random_state=1)\n",
    "\n",
    "# data preprocessing\n",
    "X_train_std = scl.fit_transform(X_train)\n",
    "X_test_std = scl.transform(X_test)\n",
    "\n",
    "X_train_pca = pca.fit_transform(X_train_std)\n",
    "X_test_pca = pca.transform(X_test_std)\n",
    "\n",
    "# compute the data indices for each fold\n",
    "if Version(sklearn_version) < '0.18':\n",
    "    kfold = StratifiedKFold(y=y_train, \n",
    "                            n_folds=10,\n",
    "                            random_state=1)\n",
    "else:\n",
    "    kfold = StratifiedKFold(n_splits=10,\n",
    "                            random_state=1).split(X_train, y_train)\n",
    "\n",
    "num_epochs = 2\n",
    "scores = []\n",
    "\n",
    "for epoch in range(num_epochs):\n",
    "    for k, (train, test) in enumerate_kfold:\n",
    "        clf.partial_fit(X_train_std[train], y_train[train], classes=np.unique(y_train))\n",
    "        score = clf.score(X_train_std[test], y_train[test])\n",
    "        scores.append(score)\n",
    "        print('Epoch: %s, Fold: %s, Class dist.: %s, Acc: %.3f' % (epoch,\n",
    "                                                                   k, \n",
    "                                                                   np.bincount(y_train[train]),\n",
    "                                                                   score))\n",
    "    print('')\n",
    "    \n",
    "print('\\nCV accuracy: %.3f +/- %.3f' % (np.mean(scores), np.std(scores)))"
   ]
  },
  {
   "cell_type": "markdown",
   "metadata": {
    "slideshow": {
     "slide_type": "subslide"
    }
   },
   "source": [
    "## Answer\n"
   ]
  },
  {
   "cell_type": "markdown",
   "metadata": {
    "slideshow": {
     "slide_type": "slide"
    }
   },
   "source": [
    "# Precision-recall curve (40 points)\n",
    "\n",
    "We have plotted ROC (receiver operator characteristics) curve for the breast cancer dataset.\n",
    "\n",
    "Plot the precision-recall curve for the same data set using the same experimental setup.\n",
    "What similarities and differences you can find between ROC and precision-recall curves?\n",
    "\n",
    "You can find more information about precision-recall curve online such as: http://scikit-learn.org/stable/modules/generated/sklearn.metrics.precision_recall_curve.html"
   ]
  },
  {
   "cell_type": "markdown",
   "metadata": {
    "slideshow": {
     "slide_type": "subslide"
    }
   },
   "source": [
    "# Answer"
   ]
  },
  {
   "cell_type": "code",
   "execution_count": 7,
   "metadata": {
    "collapsed": false,
    "slideshow": {
     "slide_type": "fragment"
    }
   },
   "outputs": [],
   "source": [
    "# your code"
   ]
  },
  {
   "cell_type": "markdown",
   "metadata": {
    "slideshow": {
     "slide_type": "fragment"
    }
   },
   "source": [
    "your explanation"
   ]
  },
  {
   "cell_type": "markdown",
   "metadata": {
    "slideshow": {
     "slide_type": "slide"
    }
   },
   "source": [
    "# Ensemble learning\n",
    "\n",
    "We have used the following code to compute and plot the ensemble error from individual classifiers for binary classification:"
   ]
  },
  {
   "cell_type": "code",
   "execution_count": 1,
   "metadata": {
    "collapsed": true,
    "slideshow": {
     "slide_type": "fragment"
    }
   },
   "outputs": [],
   "source": [
    "from scipy.misc import comb\n",
    "import math\n",
    "import numpy as np\n",
    "\n",
    "def ensemble_error(num_classifier, base_error):\n",
    "    k_start = math.ceil(num_classifier/2)\n",
    "    probs = [comb(num_classifier, k)*(base_error**k)*((1-base_error)**(num_classifier-k)) for k in range(k_start, num_classifier+1)]\n",
    "    return sum(probs)"
   ]
  },
  {
   "cell_type": "code",
   "execution_count": 2,
   "metadata": {
    "collapsed": true,
    "slideshow": {
     "slide_type": "fragment"
    }
   },
   "outputs": [],
   "source": [
    "import matplotlib.pyplot as plt\n",
    "%matplotlib inline"
   ]
  },
  {
   "cell_type": "code",
   "execution_count": 3,
   "metadata": {
    "collapsed": true,
    "slideshow": {
     "slide_type": "fragment"
    }
   },
   "outputs": [],
   "source": [
    "def plot_base_error(ensemble_error_func, num_classifier, error_delta):\n",
    "\n",
    "    error_range = np.arange(0.0, 1+error_delta, error_delta)\n",
    "    ensemble_errors = [ensemble_error_func(num_classifier=num_classifier, base_error=error) for error in error_range]\n",
    "\n",
    "    plt.plot(error_range, ensemble_errors, \n",
    "             label = 'ensemble error',\n",
    "             linewidth=2)\n",
    "    plt.plot(error_range, error_range,\n",
    "             label = 'base error',\n",
    "             linestyle = '--',\n",
    "             linewidth=2)\n",
    "    plt.xlabel('base error')\n",
    "    plt.ylabel('base/ensemble error')\n",
    "    plt.legend(loc='best')\n",
    "    plt.grid()\n",
    "    plt.show()"
   ]
  },
  {
   "cell_type": "code",
   "execution_count": 4,
   "metadata": {
    "collapsed": true,
    "slideshow": {
     "slide_type": "fragment"
    }
   },
   "outputs": [],
   "source": [
    "num_classifier = 11\n",
    "error_delta = 0.01\n",
    "base_error = 0.25"
   ]
  },
  {
   "cell_type": "code",
   "execution_count": 5,
   "metadata": {
    "collapsed": false,
    "slideshow": {
     "slide_type": "fragment"
    }
   },
   "outputs": [
    {
     "name": "stdout",
     "output_type": "stream",
     "text": [
      "0.034327507019\n"
     ]
    }
   ],
   "source": [
    "\n",
    "print(ensemble_error(num_classifier=num_classifier, base_error=base_error))\n"
   ]
  },
  {
   "cell_type": "code",
   "execution_count": 6,
   "metadata": {
    "collapsed": false,
    "slideshow": {
     "slide_type": "fragment"
    }
   },
   "outputs": [
    {
     "data": {
      "image/png": "[encoded data removed]",
      "text/plain": [
       "<matplotlib.figure.Figure at 0x1987169a668>"
      ]
     },
     "metadata": {},
     "output_type": "display_data"
    }
   ],
   "source": [
    "plot_base_error(ensemble_error, num_classifier=num_classifier, error_delta=error_delta)"
   ]
  },
  {
   "cell_type": "markdown",
   "metadata": {
    "slideshow": {
     "slide_type": "fragment"
    }
   },
   "source": [
    "# Number of classifiers (40 points)\n",
    "\n",
    "The function plot_base_error() above plots the ensemble error as a function of the base error given a fixed number of classifiers.\n",
    "\n",
    "Write another function to plot ensembe error versus different number of classifiers with a given base error.\n",
    "\n",
    "Does the ensemble error always go down with more classifiers? \n",
    "Why or why not?\n",
    "\n",
    "Can you improve the method ensemble_error() to produce a more reasonable plot?"
   ]
  },
  {
   "cell_type": "markdown",
   "metadata": {
    "slideshow": {
     "slide_type": "subslide"
    }
   },
   "source": [
    "## Answer\n",
    "\n",
    "The code for plotting is below:"
   ]
  },
  {
   "cell_type": "code",
   "execution_count": 7,
   "metadata": {
    "collapsed": false,
    "slideshow": {
     "slide_type": "fragment"
    }
   },
   "outputs": [],
   "source": [
    "def plot_num_classifier(ensemble_error_func, max_num_classifier, base_error):\n",
    "    # your code here\n",
    "    pass"
   ]
  },
  {
   "cell_type": "markdown",
   "metadata": {
    "slideshow": {
     "slide_type": "fragment"
    }
   },
   "source": [
    "State your observations of the experiments of your code..."
   ]
  },
  {
   "cell_type": "code",
   "execution_count": 8,
   "metadata": {
    "collapsed": true,
    "slideshow": {
     "slide_type": "fragment"
    }
   },
   "outputs": [],
   "source": [
    "max_num_classifiers = 20\n",
    "base_error = 0.25"
   ]
  },
  {
   "cell_type": "code",
   "execution_count": 9,
   "metadata": {
    "collapsed": false,
    "slideshow": {
     "slide_type": "fragment"
    }
   },
   "outputs": [],
   "source": [
    "plot_num_classifier(ensemble_error, \n",
    "                    max_num_classifier=max_num_classifiers, \n",
    "                    base_error=base_error)"
   ]
  },
  {
   "cell_type": "markdown",
   "metadata": {
    "slideshow": {
     "slide_type": "fragment"
    }
   },
   "source": [
    "Explain your observations above.\n",
    "\n",
    "Describe a better algorithm for computing the ensemble error."
   ]
  },
  {
   "cell_type": "code",
   "execution_count": 10,
   "metadata": {
    "collapsed": true,
    "slideshow": {
     "slide_type": "fragment"
    }
   },
   "outputs": [],
   "source": [
    "def better_ensemble_error(num_classifier, base_error):\n",
    "    # replace the following default line with your implementation of a better algorithm for ensemble error\n",
    "    return ensemble_error(num_classifiers, base_error)"
   ]
  },
  {
   "cell_type": "code",
   "execution_count": 11,
   "metadata": {
    "collapsed": false,
    "slideshow": {
     "slide_type": "fragment"
    }
   },
   "outputs": [],
   "source": [
    "plot_num_classifier(better_ensemble_error, \n",
    "                    max_num_classifier=max_num_classifiers, \n",
    "                    base_error=base_error)"
   ]
  }
 ],
 "metadata": {
  "kernelspec": {
   "display_name": "Python 3",
   "language": "python",
   "name": "python3"
  },
  "language_info": {
   "codemirror_mode": {
    "name": "ipython",
    "version": 3
   },
   "file_extension": ".py",
   "mimetype": "text/x-python",
   "name": "python",
   "nbconvert_exporter": "python",
   "pygments_lexer": "ipython3",
   "version": "3.4.3"
  },
  "name": "_merged"
 },
 "nbformat": 4,
 "nbformat_minor": 0
}
